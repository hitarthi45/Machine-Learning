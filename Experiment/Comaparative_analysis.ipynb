{
  "nbformat": 4,
  "nbformat_minor": 0,
  "metadata": {
    "colab": {
      "provenance": [],
      "authorship_tag": "ABX9TyM3GQ+mjNpRTjOkr3kKO2nk",
      "include_colab_link": true
    },
    "kernelspec": {
      "name": "python3",
      "display_name": "Python 3"
    },
    "language_info": {
      "name": "python"
    }
  },
  "cells": [
    {
      "cell_type": "markdown",
      "metadata": {
        "id": "view-in-github",
        "colab_type": "text"
      },
      "source": [
        "<a href=\"https://colab.research.google.com/github/hitarthi45/Machine-Learning/blob/main/Experiment/Comaparative_analysis.ipynb\" target=\"_parent\"><img src=\"https://colab.research.google.com/assets/colab-badge.svg\" alt=\"Open In Colab\"/></a>"
      ]
    },
    {
      "cell_type": "code",
      "execution_count": null,
      "metadata": {
        "id": "PRjulHBy_gSx"
      },
      "outputs": [],
      "source": [
        "import numpy as np\n",
        "import pandas as pd\n",
        "import seaborn as sb"
      ]
    },
    {
      "cell_type": "code",
      "source": [
        "import kagglehub\n",
        "\n",
        "# Download latest version\n",
        "path = kagglehub.dataset_download(\"javi2270784/gas-sensor-array-temperature-modulation\")\n",
        "\n",
        "print(\"Path to dataset files:\", path)"
      ],
      "metadata": {
        "colab": {
          "base_uri": "https://localhost:8080/"
        },
        "id": "n_0FA2GmBMQt",
        "outputId": "71a15841-1195-4c16-84c9-6468e5eecdd7"
      },
      "execution_count": null,
      "outputs": [
        {
          "output_type": "stream",
          "name": "stdout",
          "text": [
            "Downloading from https://www.kaggle.com/api/v1/datasets/download/javi2270784/gas-sensor-array-temperature-modulation?dataset_version_number=2...\n"
          ]
        },
        {
          "output_type": "stream",
          "name": "stderr",
          "text": [
            "100%|██████████| 365M/365M [00:03<00:00, 107MB/s] "
          ]
        },
        {
          "output_type": "stream",
          "name": "stdout",
          "text": [
            "Extracting files...\n"
          ]
        },
        {
          "output_type": "stream",
          "name": "stderr",
          "text": [
            "\n"
          ]
        },
        {
          "output_type": "stream",
          "name": "stdout",
          "text": [
            "Path to dataset files: /root/.cache/kagglehub/datasets/javi2270784/gas-sensor-array-temperature-modulation/versions/2\n"
          ]
        }
      ]
    },
    {
      "cell_type": "code",
      "metadata": {
        "id": "41aa6c2f"
      },
      "source": [
        "# Check for missing values\n",
        "display(path.isnull().sum())\n",
        "\n",
        "# Since there are no missing values, we can proceed with further preprocessing if needed.\n",
        "# For this dataset, it seems the columns are already in a suitable format for regression.\n",
        "\n",
        "# Separate features (X) and target (y)\n",
        "# Assuming the last column is the target variable. You may need to adjust this based on your dataset.\n",
        "X = path.iloc[:, :-1]\n",
        "y = path.iloc[:, -1]\n",
        "\n",
        "# Split the data into training and testing sets\n",
        "from sklearn.model_selection import train_test_split\n",
        "\n",
        "X_train, X_test, y_train, y_test = train_test_split(X, y, test_size=0.2, random_state=42)\n",
        "\n",
        "display(\"Data preprocessing complete.\")"
      ],
      "execution_count": null,
      "outputs": []
    },
    {
      "cell_type": "code",
      "metadata": {
        "id": "cab2c36c"
      },
      "source": [
        "# Construct the path to the CSV file\n",
        "csv_file_path = path / \"gas_sensor_dataset.csv\"\n",
        "\n",
        "# Load the dataset\n",
        "df = pd.read_csv(csv_file_path)\n",
        "\n",
        "# Display the first 5 rows of the dataframe\n",
        "display(df.head())\n",
        "\n",
        "# Display information about the dataframe, including data types and non-null values\n",
        "display(df.info())"
      ],
      "execution_count": null,
      "outputs": []
    }
  ]
}